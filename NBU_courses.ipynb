{
 "cells": [
  {
   "cell_type": "code",
   "execution_count": 1,
   "id": "cdd76968-50a7-43b1-9067-8e626145222f",
   "metadata": {},
   "outputs": [],
   "source": [
    "import requests\n",
    "import pandas as pd\n",
    "from datetime import datetime, timedelta\n",
    "import psycopg2\n",
    "from psycopg2.extras import execute_values"
   ]
  },
  {
   "cell_type": "code",
   "execution_count": 2,
   "id": "906c05d7-308c-4b84-b53a-e1bcd31291f6",
   "metadata": {},
   "outputs": [],
   "source": [
    "# 1️⃣ Завантаження даних з API\n",
    "start_date = datetime(2025, 1, 1)\n",
    "end_date = datetime.today()\n",
    "\n",
    "all_data = []\n",
    "current_date = start_date\n",
    "while current_date <= end_date:\n",
    "    date_str = current_date.strftime(\"%Y%m%d\")\n",
    "    url = f\"https://bank.gov.ua/NBUStatService/v1/statdirectory/exchange?date={date_str}&json\"\n",
    "    \n",
    "    response = requests.get(url)\n",
    "    if response.status_code == 200:\n",
    "        data = response.json()\n",
    "        for d in data:\n",
    "            all_data.append({\n",
    "                \"date\": d[\"exchangedate\"],\n",
    "                \"currency_code\": d[\"cc\"],\n",
    "                \"currency_name\": d[\"txt\"],\n",
    "                \"rate\": d[\"rate\"]\n",
    "            })\n",
    "    else:\n",
    "        print(f\"Помилка {response.status_code} для {date_str}\")\n",
    "    \n",
    "    current_date += timedelta(days=1)"
   ]
  },
  {
   "cell_type": "code",
   "execution_count": 3,
   "id": "4bea9009-cf5c-491d-acf8-efaf0b1db65d",
   "metadata": {},
   "outputs": [],
   "source": [
    "# 2️⃣ Створення DataFrame\n",
    "df = pd.DataFrame(all_data)"
   ]
  },
  {
   "cell_type": "code",
   "execution_count": 4,
   "id": "506d13ee-9ad8-4059-8082-2363d21b6533",
   "metadata": {},
   "outputs": [],
   "source": [
    "# 3️⃣ Перевірка та очищення\n",
    "df = df.drop_duplicates()\n",
    "df = df.dropna()\n",
    "df[\"date\"] = pd.to_datetime(df[\"date\"], format=\"%d.%m.%Y\")\n",
    "df[\"rate\"] = pd.to_numeric(df[\"rate\"], errors=\"coerce\")\n",
    "df = df[df[\"rate\"] > 0]"
   ]
  },
  {
   "cell_type": "code",
   "execution_count": 5,
   "id": "e47bc9e8-2ab0-4905-af9e-3396b9310a16",
   "metadata": {},
   "outputs": [],
   "source": [
    "# 4️⃣ Підключення до PostgreSQL та створення таблиці\n",
    "conn = psycopg2.connect(\n",
    "    host=\"localhost\",\n",
    "    database=\"postgres\",\n",
    "    user=\"postgres\",\n",
    "    password=\"991Gfhjkm.\",\n",
    "    port=5432\n",
    ")\n",
    "cur = conn.cursor()\n",
    "\n",
    "cur.execute(\"\"\"\n",
    "CREATE TABLE IF NOT EXISTS nbu_exchange_rates (\n",
    "    date DATE,\n",
    "    currency_code VARCHAR(3),\n",
    "    currency_name VARCHAR(100),\n",
    "    rate NUMERIC\n",
    ")\n",
    "\"\"\")\n",
    "conn.commit()\n"
   ]
  },
  {
   "cell_type": "code",
   "execution_count": 7,
   "id": "57b2226e-7dcc-4505-862b-a00c2cb209ad",
   "metadata": {},
   "outputs": [
    {
     "name": "stdout",
     "output_type": "stream",
     "text": [
      "Файл nbu_exchange_rates_clean.csv збережений\n"
     ]
    }
   ],
   "source": [
    "# Збереження очищених даних у CSV\n",
    "df.to_csv(\"nbu_exchange_rates_clean.csv\", index=False, encoding=\"utf-8-sig\")\n",
    "print(\"Файл nbu_exchange_rates_clean.csv збережений\")"
   ]
  },
  {
   "cell_type": "code",
   "execution_count": 17,
   "id": "7ba1b033-7a4e-4892-8a5f-6bb4b353ee95",
   "metadata": {},
   "outputs": [
    {
     "name": "stdout",
     "output_type": "stream",
     "text": [
      "✅ Дані вставлені\n"
     ]
    }
   ],
   "source": [
    "# Перетворення у чисті Python типи\n",
    "df[\"rate\"] = df[\"rate\"].astype(float)\n",
    "df[\"date\"] = pd.to_datetime(df[\"date\"]).dt.date\n",
    "df[\"currency_code\"] = df[\"currency_code\"].astype(str)\n",
    "df[\"currency_name\"] = df[\"currency_name\"].astype(str)\n",
    "\n",
    "# Перетворимо на список кортежів\n",
    "values = list(df.itertuples(index=False, name=None))\n",
    "\n",
    "# Очистимо таблицю перед вставкою (якщо треба)\n",
    "# cur.execute(\"TRUNCATE TABLE nbu_exchange_rates;\")\n",
    "\n",
    "# Виконуємо вставку\n",
    "try:\n",
    "    execute_values(cur,\n",
    "        \"INSERT INTO nbu_exchange_rates (date, currency_code, currency_name, rate) VALUES %s\",\n",
    "        values\n",
    "    )\n",
    "    conn.commit()\n",
    "    print(\"✅ Дані вставлені\")\n",
    "except Exception as e:\n",
    "    conn.rollback()\n",
    "    print(\"❌ Помилка вставки:\", e)"
   ]
  },
  {
   "cell_type": "code",
   "execution_count": null,
   "id": "38828f49-1638-4e39-9c57-0563a283fa93",
   "metadata": {},
   "outputs": [],
   "source": []
  },
  {
   "cell_type": "code",
   "execution_count": null,
   "id": "39d66c87-dc7b-4d82-8302-285394fc614e",
   "metadata": {},
   "outputs": [],
   "source": []
  }
 ],
 "metadata": {
  "kernelspec": {
   "display_name": "Python 3 (ipykernel)",
   "language": "python",
   "name": "python3"
  },
  "language_info": {
   "codemirror_mode": {
    "name": "ipython",
    "version": 3
   },
   "file_extension": ".py",
   "mimetype": "text/x-python",
   "name": "python",
   "nbconvert_exporter": "python",
   "pygments_lexer": "ipython3",
   "version": "3.12.11"
  }
 },
 "nbformat": 4,
 "nbformat_minor": 5
}
