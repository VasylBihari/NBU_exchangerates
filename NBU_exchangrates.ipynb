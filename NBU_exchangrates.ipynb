{
 "cells": [
  {
   "cell_type": "code",
   "execution_count": 36,
   "id": "3e4aa963-fa24-48a7-951c-88e1c86bd772",
   "metadata": {},
   "outputs": [],
   "source": [
    "import requests\n",
    "import pandas as pd\n",
    "from datetime import datetime, timedelta\n",
    "from datetime import date"
   ]
  },
  {
   "cell_type": "markdown",
   "id": "4fd49286-9b88-4bf8-b408-f4a698e31df8",
   "metadata": {},
   "source": [
    "### Extract data"
   ]
  },
  {
   "cell_type": "code",
   "execution_count": 14,
   "id": "d42becf7-4752-4c40-bcb9-e10552fce523",
   "metadata": {},
   "outputs": [],
   "source": [
    "# start and end dates\n",
    "start_date = datetime(2025, 1, 1)\n",
    "end_date = datetime.today()"
   ]
  },
  {
   "cell_type": "code",
   "execution_count": 16,
   "id": "be3226ea-5107-4397-bbcb-b95d093ad73c",
   "metadata": {},
   "outputs": [],
   "source": [
    "# list for saving results\n",
    "all_data = []"
   ]
  },
  {
   "cell_type": "code",
   "execution_count": 17,
   "id": "f4e4c273-4e47-4ea5-aad3-4b8200c7015d",
   "metadata": {},
   "outputs": [],
   "source": [
    "# cycle by day\n",
    "current_date = start_date\n",
    "while current_date <= end_date:\n",
    "    date_str = current_date.strftime(\"%Y%m%d\")\n",
    "    url = f\"https://bank.gov.ua/NBUStatService/v1/statdirectory/exchange?date={date_str}&json\"\n",
    "    \n",
    "    response = requests.get(url)\n",
    "    if response.status_code == 200:\n",
    "        data = response.json()\n",
    "        for d in data:\n",
    "            all_data.append({\n",
    "                \"date\": d[\"exchangedate\"],\n",
    "                \"currency_code\": d[\"cc\"],\n",
    "                \"currency_name\": d[\"txt\"],\n",
    "                \"rate\": d[\"rate\"]\n",
    "            })\n",
    "    else:\n",
    "        print(f\"Помилка {response.status_code} для {date_str}\")\n",
    "    \n",
    "    current_date += timedelta(days=1)"
   ]
  },
  {
   "cell_type": "code",
   "execution_count": 18,
   "id": "834d493b-e783-47ca-ab09-1b66ecebbc23",
   "metadata": {},
   "outputs": [],
   "source": [
    "# convert to DataFrame\n",
    "df = pd.DataFrame(all_data)"
   ]
  },
  {
   "cell_type": "code",
   "execution_count": 24,
   "id": "9b7c63ec-fb01-4474-aff6-920d020349d9",
   "metadata": {},
   "outputs": [],
   "source": [
    "# save to file\n",
    "df.to_csv(\"nbu_exchange_rates.csv\", index=False, encoding=\"utf-8-sig\")"
   ]
  },
  {
   "cell_type": "markdown",
   "id": "28f940c7-67a1-45b9-88dd-ed3adffddb3b",
   "metadata": {},
   "source": [
    "### Data verification and cleaning"
   ]
  },
  {
   "cell_type": "code",
   "execution_count": 20,
   "id": "5b498e6e-b50b-4a4a-a26b-eff35360c55e",
   "metadata": {},
   "outputs": [
    {
     "name": "stdout",
     "output_type": "stream",
     "text": [
      "(13678, 4)\n"
     ]
    }
   ],
   "source": [
    "# number of rows and columns\n",
    "print(df.shape)"
   ]
  },
  {
   "cell_type": "code",
   "execution_count": 21,
   "id": "81e2ee4f-e4a5-4918-99c7-bdc900a29618",
   "metadata": {},
   "outputs": [
    {
     "name": "stdout",
     "output_type": "stream",
     "text": [
      "<class 'pandas.core.frame.DataFrame'>\n",
      "RangeIndex: 13678 entries, 0 to 13677\n",
      "Data columns (total 4 columns):\n",
      " #   Column         Non-Null Count  Dtype  \n",
      "---  ------         --------------  -----  \n",
      " 0   date           13678 non-null  object \n",
      " 1   currency_code  13678 non-null  object \n",
      " 2   currency_name  13678 non-null  object \n",
      " 3   rate           13678 non-null  float64\n",
      "dtypes: float64(1), object(3)\n",
      "memory usage: 427.6+ KB\n",
      "None\n"
     ]
    }
   ],
   "source": [
    "# information about data types\n",
    "print(df.info())"
   ]
  },
  {
   "cell_type": "code",
   "execution_count": 9,
   "id": "be59d0bd-1b5a-4bae-a0f9-804181243b03",
   "metadata": {},
   "outputs": [
    {
     "name": "stdout",
     "output_type": "stream",
     "text": [
      "['AUD' 'CAD' 'CNY' 'CZK' 'DKK' 'HKD' 'HUF' 'INR' 'IDR' 'ILS' 'JPY' 'KZT'\n",
      " 'KRW' 'MXN' 'MDL' 'NZD' 'NOK' 'RUB' 'SGD' 'ZAR' 'SEK' 'CHF' 'EGP' 'GBP'\n",
      " 'USD' 'BYN' 'AZN' 'RON' 'TRY' 'XDR' 'BGN' 'EUR' 'PLN' 'DZD' 'BDT' 'AMD'\n",
      " 'DOP' 'IRR' 'IQD' 'KGS' 'LBP' 'LYD' 'MYR' 'MAD' 'PKR' 'SAR' 'VND' 'THB'\n",
      " 'AED' 'TND' 'UZS' 'TWD' 'TMT' 'RSD' 'TJS' 'GEL' 'BRL' 'XAU' 'XAG' 'XPT'\n",
      " 'XPD']\n"
     ]
    }
   ],
   "source": [
    "# unique currency codes\n",
    "print(df[\"currency_code\"].unique())"
   ]
  },
  {
   "cell_type": "code",
   "execution_count": 10,
   "id": "4357ade1-9647-44c3-9371-903ea1409701",
   "metadata": {},
   "outputs": [
    {
     "name": "stdout",
     "output_type": "stream",
     "text": [
      "date             0\n",
      "currency_code    0\n",
      "currency_name    0\n",
      "rate             0\n",
      "dtype: int64\n"
     ]
    }
   ],
   "source": [
    "# check NULL\n",
    "print(df.isnull().sum())"
   ]
  },
  {
   "cell_type": "code",
   "execution_count": 11,
   "id": "af499f36-82b8-4e6e-9440-6e1eacf2dce8",
   "metadata": {},
   "outputs": [
    {
     "name": "stdout",
     "output_type": "stream",
     "text": [
      "Empty DataFrame\n",
      "Columns: [date, currency_code, currency_name, rate]\n",
      "Index: []\n"
     ]
    }
   ],
   "source": [
    "# duplicate check\n",
    "duplicates = df[df.duplicated()]\n",
    "print(duplicates)"
   ]
  },
  {
   "cell_type": "code",
   "execution_count": 23,
   "id": "6cdbf894-ffee-440a-be72-b6b07382e8a1",
   "metadata": {},
   "outputs": [
    {
     "name": "stdout",
     "output_type": "stream",
     "text": [
      "Rows with rate <= 0 or NaN:\n",
      "Empty DataFrame\n",
      "Columns: [date, currency_code, currency_name, rate]\n",
      "Index: []\n"
     ]
    }
   ],
   "source": [
    "# Сheck if there are any problematic values\n",
    "print(\"Rows with rate <= 0 or NaN:\")\n",
    "print(df[(df[\"rate\"] <= 0) | (df[\"rate\"].isna())])"
   ]
  },
  {
   "cell_type": "markdown",
   "id": "8988bee6-aa75-4028-a01d-4d72d0b69ec4",
   "metadata": {},
   "source": [
    "## Data from the official NBU API and load it into PostgreSQL"
   ]
  },
  {
   "cell_type": "code",
   "execution_count": 44,
   "id": "49380237-c6f5-4769-b276-cb1e71cf24e6",
   "metadata": {},
   "outputs": [],
   "source": [
    "# PostgreSQL connection parameters\n",
    "conn = psycopg2.connect(\n",
    "    dbname=\"my_projects\",\n",
    "    user=\"postgres\",\n",
    "    password=\"991Gfhjkm.\",\n",
    "    host=\"localhost\",\n",
    "    port=\"5432\"\n",
    ")\n",
    "cur = conn.cursor()"
   ]
  },
  {
   "cell_type": "code",
   "execution_count": 45,
   "id": "2f883fd5-9af5-4a9d-b530-7864f1626099",
   "metadata": {},
   "outputs": [],
   "source": [
    "# Start and end date\n",
    "start_date = date(2025, 1, 1)\n",
    "end_date = date.today()"
   ]
  },
  {
   "cell_type": "code",
   "execution_count": 46,
   "id": "04126cde-693f-479c-80bf-1eaac780f572",
   "metadata": {},
   "outputs": [],
   "source": [
    "current_date = start_date\n",
    "while current_date <= end_date:\n",
    "    url = f\"https://bank.gov.ua/NBUStatService/v1/statdirectory/exchange?date={current_date.strftime('%Y%m%d')}&json\"\n",
    "    response = requests.get(url).json()\n",
    "\n",
    "    for item in response:\n",
    "        cur.execute(\n",
    "            \"\"\"\n",
    "            INSERT INTO nbu_courses (date, currency_code, currency_name, rate)\n",
    "            VALUES (%s, %s, %s, %s)\n",
    "            ON CONFLICT (date, currency_code) DO NOTHING;\n",
    "            \"\"\",\n",
    "            (current_date, item[\"cc\"], item[\"txt\"], item[\"rate\"])\n",
    "        )\n",
    "\n",
    "    current_date += timedelta(days=1)"
   ]
  },
  {
   "cell_type": "code",
   "execution_count": 47,
   "id": "f394c5f2-3ecf-445c-ba61-27828efdceda",
   "metadata": {},
   "outputs": [],
   "source": [
    "# Save changes\n",
    "conn.commit()\n",
    "cur.close()\n",
    "conn.close()"
   ]
  },
  {
   "cell_type": "code",
   "execution_count": null,
   "id": "8fee23a3-6823-4fcb-8987-d9e22de2a2e6",
   "metadata": {},
   "outputs": [],
   "source": []
  }
 ],
 "metadata": {
  "kernelspec": {
   "display_name": "Python 3 (ipykernel)",
   "language": "python",
   "name": "python3"
  },
  "language_info": {
   "codemirror_mode": {
    "name": "ipython",
    "version": 3
   },
   "file_extension": ".py",
   "mimetype": "text/x-python",
   "name": "python",
   "nbconvert_exporter": "python",
   "pygments_lexer": "ipython3",
   "version": "3.12.11"
  }
 },
 "nbformat": 4,
 "nbformat_minor": 5
}
